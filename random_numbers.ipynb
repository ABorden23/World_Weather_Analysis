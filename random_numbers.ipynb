{
 "cells": [
  {
   "cell_type": "code",
   "execution_count": 1,
   "id": "4ecfacdf",
   "metadata": {},
   "outputs": [],
   "source": [
    "# Import the random module.\n",
    "import random"
   ]
  },
  {
   "cell_type": "code",
   "execution_count": 2,
   "id": "0e96d298",
   "metadata": {},
   "outputs": [],
   "source": [
    "# Import the NumPy module.\n",
    "import numpy as np"
   ]
  },
  {
   "cell_type": "code",
   "execution_count": 3,
   "id": "c0b3ca94",
   "metadata": {},
   "outputs": [],
   "source": [
    "# Import timeit.\n",
    "import timeit"
   ]
  },
  {
   "cell_type": "code",
   "execution_count": 4,
   "id": "86f94f58",
   "metadata": {},
   "outputs": [
    {
     "data": {
      "text/plain": [
       "-2"
      ]
     },
     "execution_count": 4,
     "metadata": {},
     "output_type": "execute_result"
    }
   ],
   "source": [
    "random.randint(-90, 90)"
   ]
  },
  {
   "cell_type": "code",
   "execution_count": 5,
   "id": "fa001a77",
   "metadata": {},
   "outputs": [
    {
     "data": {
      "text/plain": [
       "[69.69346808628838,\n",
       " 16.28535419073748,\n",
       " 53.57288663938918,\n",
       " 56.76201033652361,\n",
       " -65.02482136105033,\n",
       " -15.566322825445996,\n",
       " 80.65546683203328,\n",
       " 41.02607828051639,\n",
       " 14.17619823232562,\n",
       " 67.423181964031]"
      ]
     },
     "execution_count": 5,
     "metadata": {},
     "output_type": "execute_result"
    }
   ],
   "source": [
    "x = 1\n",
    "latitudes = []\n",
    "while x < 11:\n",
    "    random_lat = random.randint(-90, 89) + random.random()\n",
    "    latitudes.append(random_lat)\n",
    "    x += 1\n",
    "    \n",
    "latitudes"
   ]
  },
  {
   "cell_type": "code",
   "execution_count": 6,
   "id": "2bbaae93",
   "metadata": {},
   "outputs": [
    {
     "data": {
      "text/plain": [
       "-9"
      ]
     },
     "execution_count": 6,
     "metadata": {},
     "output_type": "execute_result"
    }
   ],
   "source": [
    "random.randrange(-90, 90, step=1)"
   ]
  },
  {
   "cell_type": "code",
   "execution_count": 7,
   "id": "af39f68d",
   "metadata": {},
   "outputs": [
    {
     "data": {
      "text/plain": [
       "66"
      ]
     },
     "execution_count": 7,
     "metadata": {},
     "output_type": "execute_result"
    }
   ],
   "source": [
    "random.randrange(-90, 90, step=3)"
   ]
  },
  {
   "cell_type": "code",
   "execution_count": 8,
   "id": "fb543e6c",
   "metadata": {},
   "outputs": [
    {
     "data": {
      "text/plain": [
       "-74.69753229749449"
      ]
     },
     "execution_count": 8,
     "metadata": {},
     "output_type": "execute_result"
    }
   ],
   "source": [
    "random.uniform(-90, 90)"
   ]
  },
  {
   "cell_type": "code",
   "execution_count": 9,
   "id": "c5622473",
   "metadata": {},
   "outputs": [
    {
     "data": {
      "text/plain": [
       "-85.3564004723903"
      ]
     },
     "execution_count": 9,
     "metadata": {},
     "output_type": "execute_result"
    }
   ],
   "source": [
    "np.random.uniform(-90.000, 90.000)"
   ]
  },
  {
   "cell_type": "code",
   "execution_count": 10,
   "id": "8faf3691",
   "metadata": {},
   "outputs": [
    {
     "data": {
      "text/plain": [
       "array([ 62.01328307, -69.42790635,  79.763179  , -11.22499388,\n",
       "        32.80710506,  78.78408046,  89.60312323,  45.19235783,\n",
       "        -3.97504326, -13.82088372,  26.11844188,  51.31967295,\n",
       "        10.61107286,  74.00295454, -58.45337874, -55.11370212,\n",
       "        88.72620829,  88.50044705,  40.46654568,  -3.56726485,\n",
       "        86.81862572, -74.60204958,  38.04451694, -55.79482058,\n",
       "       -56.67182473,  80.206956  , -15.55900467, -58.65432966,\n",
       "        -2.60922106,  13.4137164 ,  12.32455296,  88.34005052,\n",
       "        55.18690891,  27.82422638,  67.6614819 , -24.29066533,\n",
       "        -9.03535299,  84.81382542,  61.76500737,  80.13956424,\n",
       "        23.45631055,  59.22937812, -23.7275394 ,  10.27553855,\n",
       "        29.06895915, -45.84989352,  60.92084931, -50.56980628,\n",
       "       -36.79195673,  84.66992823])"
      ]
     },
     "execution_count": 10,
     "metadata": {},
     "output_type": "execute_result"
    }
   ],
   "source": [
    "np.random.uniform(-90.000, 90.000, size=50) "
   ]
  },
  {
   "cell_type": "code",
   "execution_count": 11,
   "id": "fe5477ce",
   "metadata": {},
   "outputs": [
    {
     "name": "stdout",
     "output_type": "stream",
     "text": [
      "20.5 µs ± 1.63 µs per loop (mean ± std. dev. of 7 runs, 100,000 loops each)\n"
     ]
    }
   ],
   "source": [
    "%timeit np.random.uniform(-90.000, 90.000, size=1500)"
   ]
  },
  {
   "cell_type": "code",
   "execution_count": 12,
   "id": "d3fd7801",
   "metadata": {},
   "outputs": [
    {
     "name": "stdout",
     "output_type": "stream",
     "text": [
      "1.98 ms ± 71 µs per loop (mean ± std. dev. of 7 runs, 100 loops each)\n"
     ]
    }
   ],
   "source": [
    "def latitudes(size):\n",
    "    latitudes = []\n",
    "    x = 0\n",
    "    while x < (size):\n",
    "        random_lat = random.randint(-90, 90) + random.random()\n",
    "        latitudes.append(random_lat)\n",
    "        x += 1\n",
    "    return latitudes\n",
    "\n",
    "# Call the function with 1500.\n",
    "%timeit latitudes(1500)"
   ]
  },
  {
   "cell_type": "code",
   "execution_count": 13,
   "id": "6b3056bb",
   "metadata": {},
   "outputs": [
    {
     "data": {
      "text/plain": [
       "array([ -4.73152104,  86.09435174, -81.5425296 , ...,  54.14331952,\n",
       "        47.63240359,  77.45970865])"
      ]
     },
     "execution_count": 13,
     "metadata": {},
     "output_type": "execute_result"
    }
   ],
   "source": [
    "np.random.uniform(-90.000, 90.000, size=1500)"
   ]
  }
 ],
 "metadata": {
  "kernelspec": {
   "display_name": "PythonData",
   "language": "python",
   "name": "pythondata"
  },
  "language_info": {
   "codemirror_mode": {
    "name": "ipython",
    "version": 3
   },
   "file_extension": ".py",
   "mimetype": "text/x-python",
   "name": "python",
   "nbconvert_exporter": "python",
   "pygments_lexer": "ipython3",
   "version": "3.9.12"
  }
 },
 "nbformat": 4,
 "nbformat_minor": 5
}
