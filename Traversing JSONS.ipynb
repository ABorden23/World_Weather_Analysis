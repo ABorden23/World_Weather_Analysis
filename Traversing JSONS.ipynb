{
 "cells": [
  {
   "cell_type": "code",
   "execution_count": null,
   "id": "67371a48",
   "metadata": {},
   "outputs": [],
   "source": [
    "import requests\n",
    "from config import api_key"
   ]
  },
  {
   "cell_type": "code",
   "execution_count": null,
   "id": "c61c20a9",
   "metadata": {},
   "outputs": [],
   "source": [
    "url = \"https//api.openweathermap.org/data/2.5/weather?\n",
    "city = \"London\""
   ]
  },
  {
   "cell_type": "code",
   "execution_count": null,
   "id": "453e8c61",
   "metadata": {},
   "outputs": [],
   "source": [
    "query_url + \"appid=\" +api_key + \"&q=\" + city"
   ]
  },
  {
   "cell_type": "code",
   "execution_count": null,
   "id": "5be7a654",
   "metadata": {},
   "outputs": [],
   "source": [
    "weather_response = request.get(query_url)\n",
    "weather_json = weather_response.json ()"
   ]
  },
  {
   "cell_type": "code",
   "execution_count": null,
   "id": "9692d464",
   "metadata": {},
   "outputs": [],
   "source": [
    "weather_json.keys()"
   ]
  },
  {
   "cell_type": "code",
   "execution_count": null,
   "id": "cb04111c",
   "metadata": {},
   "outputs": [],
   "source": []
  }
 ],
 "metadata": {
  "kernelspec": {
   "display_name": "PythonData",
   "language": "python",
   "name": "pythondata"
  },
  "language_info": {
   "codemirror_mode": {
    "name": "ipython",
    "version": 3
   },
   "file_extension": ".py",
   "mimetype": "text/x-python",
   "name": "python",
   "nbconvert_exporter": "python",
   "pygments_lexer": "ipython3",
   "version": "3.9.12"
  }
 },
 "nbformat": 4,
 "nbformat_minor": 5
}
